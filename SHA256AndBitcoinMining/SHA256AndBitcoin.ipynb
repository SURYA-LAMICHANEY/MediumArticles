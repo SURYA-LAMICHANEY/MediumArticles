{
 "cells": [
  {
   "cell_type": "code",
   "execution_count": 1,
   "metadata": {},
   "outputs": [],
   "source": [
    "#a function which returns the hash value for given text\n",
    "from hashlib import sha256\n",
    "MAX_NONCE=100000000000\n",
    "def SHA256(text):\n",
    "    return sha256(text.encode('ascii')).hexdigest()"
   ]
  },
  {
   "cell_type": "code",
   "execution_count": 2,
   "metadata": {},
   "outputs": [],
   "source": [
    "#Function which makes the guess for correct nonce\n",
    "def mine(block_number, transactions, previous_hash, prefix_zeroes):\n",
    "    prefix_str = '0'* prefix_zeroes \n",
    "    for nonce in range(MAX_NONCE):\n",
    "        text = str(block_number) + transactions + previous_hash + str(nonce)\n",
    "        new_hash = SHA256(text)\n",
    "        if new_hash.startswith(prefix_str):\n",
    "            print(f\"Hurray! Successfully mined bitcoins with nonce value:{nonce}\")\n",
    "            return new_hash\n",
    "    raise BaseException(f\"Could not find correct hash after trying {MAX_NONCE} times\")"
   ]
  },
  {
   "cell_type": "code",
   "execution_count": 3,
   "metadata": {},
   "outputs": [
    {
     "name": "stdout",
     "output_type": "stream",
     "text": [
      "Start Mining...\n",
      "\n",
      "Hurray! Successfully mined bitcoins with nonce value:51196\n",
      "Mining took :0.2084801197052002 seconds\n",
      "0000d05dc51a1b9422639b54812fa40056b440062842da5994c829bd0023b491\n"
     ]
    }
   ],
   "source": [
    "#First block\n",
    "transactions1 = '''\n",
    "Daenerys -> Jon Snow -> 120\n",
    "Ned -> Catelyn -> 75\n",
    "Tyrion -> Jorah -> 81\n",
    "Cersie -> Sansa -> 135'''\n",
    "\n",
    "#Setting difficulty (prefix zeros)\n",
    "difficulty1=4\n",
    "import time\n",
    "start=time.time()\n",
    "print(\"Start Mining...\\n\")   \n",
    "\n",
    "#Since we don't have any previous hash, we will take all 64 digits as zeros\n",
    "new_hash=mine(1, transactions1,'0000000000000000000000000000000000000000000000000000000000000000',difficulty1)\n",
    "end=time.time()\n",
    "total_time =(end-start)\n",
    "print(f\"Mining took :{total_time} seconds\")\n",
    "print(new_hash)"
   ]
  },
  {
   "cell_type": "code",
   "execution_count": 4,
   "metadata": {},
   "outputs": [
    {
     "name": "stdout",
     "output_type": "stream",
     "text": [
      "Start Mining...\n",
      "\n",
      "Hurray! Successfully mined bitcoins with nonce value:27291\n",
      "Mining took :0.12470483779907227 seconds\n",
      "0000b8bdc6961fc7ca37df27609f4b8853b9c291fdc61672eee91a2e929a4527\n"
     ]
    }
   ],
   "source": [
    "#Second block\n",
    "transactions2 = '''\n",
    "Jaime -> Robert -> 99\n",
    "Robb -> Arya -> 103\n",
    "Theon -> Bran -> 58\n",
    "Petyr -> Varys -> 100'''\n",
    "\n",
    "#Setting difficulty (prefix zeros)\n",
    "difficulty2=4\n",
    "\n",
    "start=time.time()\n",
    "print(\"Start Mining...\\n\")\n",
    "    \n",
    "#Parameters for the second block\n",
    "new_hash=mine(2, transactions2,'0000d05dc51a1b9422639b54812fa40056b440062842da5994c829bd0023b491',difficulty2)\n",
    "end=time.time()\n",
    "total_time =(end-start)\n",
    "print(f\"Mining took :{total_time} seconds\")\n",
    "print(new_hash)"
   ]
  },
  {
   "cell_type": "code",
   "execution_count": 5,
   "metadata": {},
   "outputs": [
    {
     "name": "stdout",
     "output_type": "stream",
     "text": [
      "Start Mining...\n",
      "\n",
      "Hurray! Successfully mined bitcoins with nonce value:14728\n",
      "Mining took :0.0668177604675293 seconds\n",
      "0000c7e3c0759b5754a25b752cdd9f1f1e165d04f90a11ac8fa1b7b991c03767\n"
     ]
    }
   ],
   "source": [
    "#Third block\n",
    "transactions3 = '''\n",
    "Tywin -> Joffrey -> 10\n",
    "Margaery -> Tommen -> 219\n",
    "Melisandre -> stannis -> 69\n",
    "Ramsey -> Samwell -> 73'''\n",
    "\n",
    "#Setting difficulty (prefix zeros)\n",
    "difficulty3=4\n",
    "import time\n",
    "start=time.time()\n",
    "print(\"Start Mining...\\n\")\n",
    "    \n",
    "#Parameters for the third block\n",
    "new_hash=mine(3, transactions3,'0000b8bdc6961fc7ca37df27609f4b8853b9c291fdc61672eee91a2e929a4527',difficulty3)\n",
    "end=time.time()\n",
    "total_time =(end-start)\n",
    "print(f\"Mining took :{total_time} seconds\")\n",
    "print(new_hash)"
   ]
  },
  {
   "cell_type": "code",
   "execution_count": 6,
   "metadata": {},
   "outputs": [
    {
     "data": {
      "image/png": "[encoded data removed]",
      "text/plain": [
       "<Figure size 432x288 with 1 Axes>"
      ]
     },
     "metadata": {
      "needs_background": "light"
     },
     "output_type": "display_data"
    }
   ],
   "source": [
    "#Plotting time vs difficulty level.\n",
    "difficultyLevels=[1,2,3,4,5,6,7]\n",
    "timeTaken=[0.00099,0.00298,0.01396,0.06881,0.39412,42.61511,1069.06489]\n",
    "\n",
    "import matplotlib.pyplot as plt\n",
    "  \n",
    "plt.plot(difficultyLevels, timeTaken)\n",
    "plt.xlabel('Difficulty')\n",
    "plt.ylabel('Time')\n",
    "plt.title('Difficulty vs Time graph')\n",
    "plt.show()"
   ]
  }
 ],
 "metadata": {
  "kernelspec": {
   "display_name": "Python 3",
   "language": "python",
   "name": "python3"
  },
  "language_info": {
   "codemirror_mode": {
    "name": "ipython",
    "version": 3
   },
   "file_extension": ".py",
   "mimetype": "text/x-python",
   "name": "python",
   "nbconvert_exporter": "python",
   "pygments_lexer": "ipython3",
   "version": "3.7.6"
  }
 },
 "nbformat": 4,
 "nbformat_minor": 4
}
